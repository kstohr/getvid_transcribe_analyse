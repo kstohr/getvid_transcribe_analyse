{
 "cells": [
  {
   "cell_type": "code",
   "execution_count": 12,
   "metadata": {
    "collapsed": false
   },
   "outputs": [],
   "source": [
    "import requests\n",
    "import pandas as pd \n",
    "import numpy as np\n",
    "from bs4 import BeautifulSoup as sp\n",
    "import nltk\n",
    "\n",
    "import matplotlib.pyplot as plt \n",
    "import plotly \n",
    "import plotly.plotly as py\n",
    "import plotly.graph_objs as go\n",
    "\n",
    "from plotly.offline import download_plotlyjs, init_notebook_mode, iplot\n",
    "import plotly.tools as tls\n",
    "import cufflinks as cf\n",
    "from IPython.display import HTML"
   ]
  },
  {
   "cell_type": "code",
   "execution_count": 13,
   "metadata": {
    "collapsed": true
   },
   "outputs": [],
   "source": [
    "py.sign_in(\"kasstohr\", \"TOKEN\")"
   ]
  },
  {
   "cell_type": "code",
   "execution_count": 14,
   "metadata": {
    "collapsed": false
   },
   "outputs": [],
   "source": [
    "#Data source for sample City Council transcript: https://apps.tampagov.net/cttv_cc_webapp/Agenda.aspx?pkey=1981\n",
    "url = 'https://apps.tampagov.net/cttv_cc_webapp/Agenda.aspx?pkey=1981'\n",
    "r = requests.get(url)\n",
    "\n",
    "#get text content \n",
    "soup = sp(r.content, 'html.parser')\n",
    "main_content = soup.find(id=\"MainContent_Label1\").text\n",
    "#tokenize content\n",
    "tokens = nltk.word_tokenize(main_content)"
   ]
  },
  {
   "cell_type": "markdown",
   "metadata": {},
   "source": [
    "### Frequency counts of relevant words"
   ]
  },
  {
   "cell_type": "markdown",
   "metadata": {},
   "source": [
    "To help identify the most relevant topics of a given city council meeting we can use NLP to identify words or phrases (in this case just words) that might provide insight into the topic of the meeting. "
   ]
  },
  {
   "cell_type": "code",
   "execution_count": 15,
   "metadata": {
    "collapsed": false
   },
   "outputs": [
    {
     "data": {
      "text/html": [
       "<iframe id=\"igraph\" scrolling=\"no\" style=\"border:none;\" seamless=\"seamless\" src=\"https://plot.ly/~kstohr/1613.embed\" height=\"525px\" width=\"100%\"></iframe>"
      ],
      "text/plain": [
       "<plotly.tools.PlotlyDisplay object>"
      ]
     },
     "execution_count": 15,
     "metadata": {},
     "output_type": "execute_result"
    }
   ],
   "source": [
    "#get word frequency and identify relavant words by length and frequency\n",
    "fdist1 = nltk.FreqDist(tokens)\n",
    "V = set(tokens)\n",
    "relevant_words  = sorted(w for w in set(tokens) if len(w) > 7 and fdist1[w] > 7)\n",
    "\n",
    "#get word counts\n",
    "rel_freq = []\n",
    "for w in relevant_words: \n",
    "    count = fdist1[w]\n",
    "    rel_freq.append([w,count])\n",
    "    \n",
    "#create table     \n",
    "rel_freq_table = pd.DataFrame(rel_freq, columns = ['word', 'frequency'])\n",
    "rel_freq_table = rel_freq_table.sort_values(by='frequency', ascending = True)\n",
    "\n",
    "#plot table \n",
    "rel_freq_table.iplot(x = 'frequency', \n",
    "                     y = 'word', \n",
    "                     kind = 'bar', \n",
    "                     orientation = 'h', \n",
    "                     title = 'Frequency of Relevant Words <br> Sample City Council Meeting', \n",
    "                     filename = 'dsi/pc_freq_plot')"
   ]
  },
  {
   "cell_type": "markdown",
   "metadata": {},
   "source": [
    "## Identify speakers and how often they speak "
   ]
  },
  {
   "cell_type": "markdown",
   "metadata": {},
   "source": [
    "Many transcripts offer clues as to who the speakers at a meeting may be, whether they are council members or people attending the meeting providing comment. In this case we analyse just the all caps references to identify when and how frequently speakers spoke at the meeting (frequency distribution in 10 minute intervals). "
   ]
  },
  {
   "cell_type": "code",
   "execution_count": 16,
   "metadata": {
    "collapsed": false
   },
   "outputs": [
    {
     "data": {
      "text/html": [
       "<iframe id=\"igraph\" scrolling=\"no\" style=\"border:none;\" seamless=\"seamless\" src=\"https://plot.ly/~kstohr/1615.embed\" height=\"525px\" width=\"100%\"></iframe>"
      ],
      "text/plain": [
       "<plotly.tools.PlotlyDisplay object>"
      ]
     },
     "execution_count": 16,
     "metadata": {},
     "output_type": "execute_result"
    }
   ],
   "source": [
    "#split content by line to get an approximate timeseries \n",
    "by_line = main_content.split('\\r')\n",
    "tokens_by_line = []\n",
    "for i in by_line: \n",
    "    tokens = nltk.word_tokenize(i)\n",
    "    tokens_by_line.append(tokens)\n",
    "\n",
    "#tokenize content lines\n",
    "cap_names = []\n",
    "for line in tokens_by_line: \n",
    "    V = set(line)\n",
    "    #upper_words = [w for w in V if w.isupper()]\n",
    "    upper_words  = sorted(w for w in set(V) if w.isupper() and len(w) > 3)\n",
    "    cap_names.append(upper_words)\n",
    "     \n",
    "#clean up misidentified names\n",
    "cap_names = pd.DataFrame(cap_names, columns = ['first', 'last', 'q'])\n",
    "cap_names[cap_names.q.isnull()== False]\n",
    "cap_names.iloc[4650,0] = 'LISA'\n",
    "cap_names.iloc[4650,1] = 'MONTELIONE'\n",
    "cap_names[cap_names.q.isnull()== False]\n",
    "cap_names = cap_names.drop('q', axis = 1)\n",
    "cap_names = cap_names[cap_names['first'] != 'DISCLAIMER']\n",
    "\n",
    "#Thursday, October 20, 2016 \n",
    "#9:00 a.m. session \n",
    "#Add timeseries data (at approx 3s per line)\n",
    "periods = len(cap_names)\n",
    "rng = pd.date_range('10/20/2016 09:00:00', periods=periods, freq='3S')\n",
    "cap_names['time_elapsed'] = rng\n",
    "\n",
    "#clean up names \n",
    "cap_names['Speaker'] = cap_names['first'].str.cat(cap_names['last'], sep = ' ').str.title()\n",
    "cap_names = cap_names.drop(['first', 'last'], axis = 1)\n",
    "cap_names = cap_names.set_index('time_elapsed')\n",
    "\n",
    "#group by ten minute intervals, speaker name \n",
    "ts_count = cap_names.groupby([pd.TimeGrouper('10min'), 'Speaker']).count().reset_index()\n",
    "ts_count.iplot(y = 'Speaker', \n",
    "                     x = 'time_elapsed', \n",
    "                     kind = 'scatter', \n",
    "                     mode='markers',\n",
    "                     title = 'Frequency Distribution of Speakers <br> Sample City Council Meeting', \n",
    "                     filename = 'dsi/speaker_freq_dist_plot')"
   ]
  },
  {
   "cell_type": "code",
   "execution_count": null,
   "metadata": {
    "collapsed": true
   },
   "outputs": [],
   "source": []
  },
  {
   "cell_type": "code",
   "execution_count": null,
   "metadata": {
    "collapsed": true
   },
   "outputs": [],
   "source": []
  }
 ],
 "metadata": {
  "kernelspec": {
   "display_name": "Py3",
   "language": "python",
   "name": "py3"
  },
  "language_info": {
   "codemirror_mode": {
    "name": "ipython",
    "version": 3
   },
   "file_extension": ".py",
   "mimetype": "text/x-python",
   "name": "python",
   "nbconvert_exporter": "python",
   "pygments_lexer": "ipython3",
   "version": "3.5.2"
  }
 },
 "nbformat": 4,
 "nbformat_minor": 1
}
